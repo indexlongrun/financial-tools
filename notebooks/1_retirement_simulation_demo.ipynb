{
 "cells": [
  {
   "cell_type": "markdown",
   "id": "b393993a",
   "metadata": {},
   "source": [
    "# Retirement Simulator Demo\n",
    "\n",
    "Run a small simulation and visualize the distribution of final portfolio values."
   ]
  },
  {
   "cell_type": "code",
   "execution_count": null,
   "id": "e743124e",
   "metadata": {},
   "outputs": [],
   "source": [
    "import numpy as np\n",
    "import matplotlib.pyplot as plt\n",
    "from retirement_simulator.engine import run_simulation\n",
    "\n",
    "res = run_simulation(200_000, 10_000, 30_000, years=25, trials=2000, random_seed=3)\n",
    "plt.hist(res.final_values, bins=60)\n",
    "plt.title('Final portfolio value distribution')\n",
    "plt.show()"
   ]
  }
 ],
 "metadata": {
  "language_info": {
   "name": "python"
  }
 },
 "nbformat": 4,
 "nbformat_minor": 5
}
