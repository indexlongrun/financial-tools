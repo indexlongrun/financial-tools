{
 "cells": [
  {
   "cell_type": "markdown",
   "id": "a1119d89",
   "metadata": {},
   "source": [
    "# Exploration Notebook\n",
    "\n",
    "Use this notebook to experiment with parameters and visualizations."
   ]
  }
 ],
 "metadata": {
  "language_info": {
   "name": "python"
  }
 },
 "nbformat": 4,
 "nbformat_minor": 5
}
